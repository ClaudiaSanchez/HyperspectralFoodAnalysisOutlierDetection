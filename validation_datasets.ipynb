{
 "cells": [
  {
   "cell_type": "code",
   "execution_count": 7,
   "id": "b282f453-69a6-461d-9939-a34f262f4264",
   "metadata": {},
   "outputs": [],
   "source": [
    "import pandas\n",
    "import numpy as np\n",
    "from sklearn.model_selection import KFold"
   ]
  },
  {
   "cell_type": "code",
   "execution_count": 9,
   "id": "c930d3b0-6a7f-40ba-b272-c9c0715435fa",
   "metadata": {},
   "outputs": [],
   "source": [
    "def train_test_datasets(df,title,npermutations=30):\n",
    "    XX = df.values\n",
    "    columns = df.columns\n",
    "    for i in range(npermutations):\n",
    "        idx = np.random.permutation(len(XX))\n",
    "        XX = XX[idx,:]\n",
    "        kf = KFold(n_splits=5)\n",
    "        for j, (train_index, test_index) in enumerate(kf.split(XX)):\n",
    "            Xtrain = XX[train_index,:]\n",
    "            Xtest = XX[test_index,:]\n",
    "            filename = 'validation_datasets/'+title+'_'+str(i)+'_'+str(j)\n",
    "            pandas.DataFrame(Xtrain,columns=columns).to_csv(filename+'_train.csv',index=False)\n",
    "            pandas.DataFrame(Xtest,columns=columns).to_csv(filename+'_test.csv',index=False)"
   ]
  },
  {
   "cell_type": "code",
   "execution_count": 10,
   "id": "ce5d6893-dc2d-4d40-ab1d-dd8cded2f732",
   "metadata": {},
   "outputs": [],
   "source": [
    "'''\n",
    "df = pandas.read_csv('datasets/Apple.csv',sep=\",\")\n",
    "columns = df.columns[1:]\n",
    "df = df[ columns ]\n",
    "train_test_datasets(df,'apple')\n",
    "'''"
   ]
  },
  {
   "cell_type": "code",
   "execution_count": 14,
   "id": "8170e803-bbb8-431a-916a-ebca76fd031f",
   "metadata": {},
   "outputs": [],
   "source": [
    "'''\n",
    "df = pandas.read_csv('datasets/Brocoli.csv',sep=\",\")\n",
    "columns = df.columns[1:]\n",
    "df = df[ columns ]\n",
    "train_test_datasets(df,'brocoli')\n",
    "'''"
   ]
  },
  {
   "cell_type": "code",
   "execution_count": 16,
   "id": "5574cde7-b610-4cd6-a581-8f04bf0d5a18",
   "metadata": {},
   "outputs": [],
   "source": [
    "'''\n",
    "df = pandas.read_csv('datasets/Leek.csv',sep=\",\")\n",
    "columns = df.columns[1:]\n",
    "df = df[ columns ]\n",
    "train_test_datasets(df,'leek')\n",
    "'''"
   ]
  },
  {
   "cell_type": "code",
   "execution_count": 19,
   "id": "b31e06c4-caf1-4fff-b8a2-427d3dd1e449",
   "metadata": {},
   "outputs": [
    {
     "data": {
      "text/plain": [
       "'\\ndf = pandas.read_csv(\\'datasets/Mushroom.csv\\',sep=\",\")\\ncolumns = df.columns[1:]\\ndf = df[ columns ]\\ntrain_test_datasets(df,\\'mushroom\\')\\n'"
      ]
     },
     "execution_count": 19,
     "metadata": {},
     "output_type": "execute_result"
    }
   ],
   "source": [
    "'''\n",
    "df = pandas.read_csv('datasets/Mushroom.csv',sep=\",\")\n",
    "columns = df.columns[1:]\n",
    "df = df[ columns ]\n",
    "train_test_datasets(df,'mushroom')\n",
    "'''"
   ]
  },
  {
   "cell_type": "code",
   "execution_count": 26,
   "id": "94faf9fa-0439-4d8e-9254-1ab90ef6d00f",
   "metadata": {},
   "outputs": [
    {
     "name": "stdout",
     "output_type": "stream",
     "text": [
      "['FER' 'MAUZAC' 'SYRAH']\n",
      "X (63, 205) columns 205\n",
      "X (85, 205) columns 205\n",
      "X (126, 205) columns 205\n"
     ]
    }
   ],
   "source": [
    "df = pandas.read_csv('datasets/DATASET.csv',sep=\";\")\n",
    "columns = df.columns[2:]\n",
    "print(np.unique(df['Variety'].values))\n",
    "for v in ['FER','MAUZAC','SYRAH']:\n",
    "    idx = df['Variety'].values==v\n",
    "    X = df.values[idx,:]\n",
    "    X = X[:,2:]\n",
    "    print('X',X.shape,'columns',len(columns))\n",
    "    dfv = pandas.DataFrame(X,columns=columns)\n",
    "    train_test_datasets(dfv,'grapes_'+v)"
   ]
  },
  {
   "cell_type": "code",
   "execution_count": null,
   "id": "4ba47e11-96a0-41d7-8f42-305bf91894bf",
   "metadata": {},
   "outputs": [],
   "source": []
  }
 ],
 "metadata": {
  "kernelspec": {
   "display_name": "Python 3 (ipykernel)",
   "language": "python",
   "name": "python3"
  },
  "language_info": {
   "codemirror_mode": {
    "name": "ipython",
    "version": 3
   },
   "file_extension": ".py",
   "mimetype": "text/x-python",
   "name": "python",
   "nbconvert_exporter": "python",
   "pygments_lexer": "ipython3",
   "version": "3.11.7"
  }
 },
 "nbformat": 4,
 "nbformat_minor": 5
}
